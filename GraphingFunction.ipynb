{
 "cells": [
  {
   "cell_type": "code",
   "execution_count": 3,
   "metadata": {},
   "outputs": [],
   "source": [
    "import matplotlib.pyplot as plt\n",
    "\n",
    "#Data Manipulation\n",
    "import pandas as pd\n",
    "import numpy as np\n",
    "\n",
    "# Graphics\n",
    "from tqdm import tqdm\n",
    "\n",
    "# Seaborn for visualization\n",
    "import seaborn as sns\n",
    "sns.set(font_scale = 2)\n",
    "\n",
    "# Matplotlib visualization\n",
    "import matplotlib.pyplot as plt\n",
    "%matplotlib inline"
   ]
  },
  {
   "cell_type": "code",
   "execution_count": 8,
   "metadata": {},
   "outputs": [
    {
     "data": {
      "text/html": [
       "<div>\n",
       "<style scoped>\n",
       "    .dataframe tbody tr th:only-of-type {\n",
       "        vertical-align: middle;\n",
       "    }\n",
       "\n",
       "    .dataframe tbody tr th {\n",
       "        vertical-align: top;\n",
       "    }\n",
       "\n",
       "    .dataframe thead th {\n",
       "        text-align: right;\n",
       "    }\n",
       "</style>\n",
       "<table border=\"1\" class=\"dataframe\">\n",
       "  <thead>\n",
       "    <tr style=\"text-align: right;\">\n",
       "      <th></th>\n",
       "      <th>Unnamed: 0</th>\n",
       "      <th>Ticker</th>\n",
       "      <th>2015</th>\n",
       "      <th>2016</th>\n",
       "      <th>2017</th>\n",
       "      <th>2018</th>\n",
       "      <th>2019</th>\n",
       "      <th>PredVar</th>\n",
       "    </tr>\n",
       "  </thead>\n",
       "  <tbody>\n",
       "    <tr>\n",
       "      <th>0</th>\n",
       "      <td>0</td>\n",
       "      <td>PG</td>\n",
       "      <td>-9.323276</td>\n",
       "      <td>10.809451</td>\n",
       "      <td>12.532463</td>\n",
       "      <td>4.975151</td>\n",
       "      <td>40.680273</td>\n",
       "      <td>25.676711</td>\n",
       "    </tr>\n",
       "    <tr>\n",
       "      <th>1</th>\n",
       "      <td>1</td>\n",
       "      <td>VIPS</td>\n",
       "      <td>-25.512193</td>\n",
       "      <td>-21.637010</td>\n",
       "      <td>4.363319</td>\n",
       "      <td>-56.320000</td>\n",
       "      <td>160.000011</td>\n",
       "      <td>31.182346</td>\n",
       "    </tr>\n",
       "    <tr>\n",
       "      <th>2</th>\n",
       "      <td>2</td>\n",
       "      <td>KR</td>\n",
       "      <td>33.118297</td>\n",
       "      <td>-15.036503</td>\n",
       "      <td>-17.068252</td>\n",
       "      <td>-0.990449</td>\n",
       "      <td>8.690633</td>\n",
       "      <td>23.875975</td>\n",
       "    </tr>\n",
       "    <tr>\n",
       "      <th>3</th>\n",
       "      <td>3</td>\n",
       "      <td>RAD</td>\n",
       "      <td>2.752291</td>\n",
       "      <td>4.303799</td>\n",
       "      <td>-75.916870</td>\n",
       "      <td>-66.666666</td>\n",
       "      <td>0.454550</td>\n",
       "      <td>34.710579</td>\n",
       "    </tr>\n",
       "    <tr>\n",
       "      <th>4</th>\n",
       "      <td>4</td>\n",
       "      <td>GIS</td>\n",
       "      <td>12.897715</td>\n",
       "      <td>10.693172</td>\n",
       "      <td>-1.162942</td>\n",
       "      <td>-31.280412</td>\n",
       "      <td>45.027569</td>\n",
       "      <td>23.757251</td>\n",
       "    </tr>\n",
       "  </tbody>\n",
       "</table>\n",
       "</div>"
      ],
      "text/plain": [
       "   Unnamed: 0 Ticker       2015       2016       2017       2018        2019  \\\n",
       "0           0     PG  -9.323276  10.809451  12.532463   4.975151   40.680273   \n",
       "1           1   VIPS -25.512193 -21.637010   4.363319 -56.320000  160.000011   \n",
       "2           2     KR  33.118297 -15.036503 -17.068252  -0.990449    8.690633   \n",
       "3           3    RAD   2.752291   4.303799 -75.916870 -66.666666    0.454550   \n",
       "4           4    GIS  12.897715  10.693172  -1.162942 -31.280412   45.027569   \n",
       "\n",
       "     PredVar  \n",
       "0  25.676711  \n",
       "1  31.182346  \n",
       "2  23.875975  \n",
       "3  34.710579  \n",
       "4  23.757251  "
      ]
     },
     "execution_count": 8,
     "metadata": {},
     "output_type": "execute_result"
    }
   ],
   "source": [
    "dfgraph_merged=pd.read_csv('data/PredVarwithTickerVarTrend.csv')\n",
    "dfgraph_merged.head()"
   ]
  },
  {
   "cell_type": "code",
   "execution_count": 19,
   "metadata": {},
   "outputs": [
    {
     "name": "stdout",
     "output_type": "stream",
     "text": [
      "Which Ticker do you want to predict?  : AAPL\n",
      "AAPL\n"
     ]
    }
   ],
   "source": [
    "args = input(\"Which Ticker do you want to predict?  : \") \n",
    "print(args)\n",
    "\n",
    "   \n"
   ]
  },
  {
   "cell_type": "code",
   "execution_count": 20,
   "metadata": {},
   "outputs": [],
   "source": [
    "def myfun(args):\n",
    "    figsize(10,6)\n",
    "    for i in range(len(dfgraph_merged)):\n",
    "        if dfgraph_merged['Ticker'][i] == args:\n",
    "            plt.plot([k for k in dfgraph_merged.columns[2:]],[dfgraph_merged[y].iloc[i] for y in dfgraph_merged.columns[2:]])\n",
    "            plt.color='b'\n",
    "# label the plot\n",
    "            plt.xlabel('Year', size = 20); plt.ylabel('Yearly Price Variance', size = 20); \n",
    "            plt.title(f'Trend Graph of Yearly Price Variance w Predicted - {args}', size = 28);\n",
    "            plt.show()"
   ]
  },
  {
   "cell_type": "code",
   "execution_count": 21,
   "metadata": {},
   "outputs": [
    {
     "ename": "SyntaxError",
     "evalue": "invalid syntax (<ipython-input-21-5113de2169af>, line 1)",
     "output_type": "error",
     "traceback": [
      "\u001b[1;36m  File \u001b[1;32m\"<ipython-input-21-5113de2169af>\"\u001b[1;36m, line \u001b[1;32m1\u001b[0m\n\u001b[1;33m    map myfun(AAPL)\u001b[0m\n\u001b[1;37m            ^\u001b[0m\n\u001b[1;31mSyntaxError\u001b[0m\u001b[1;31m:\u001b[0m invalid syntax\n"
     ]
    }
   ],
   "source": [
    "map myfun(AAPL)"
   ]
  },
  {
   "cell_type": "code",
   "execution_count": null,
   "metadata": {},
   "outputs": [],
   "source": []
  }
 ],
 "metadata": {
  "kernelspec": {
   "display_name": "Python 3",
   "language": "python",
   "name": "python3"
  },
  "language_info": {
   "codemirror_mode": {
    "name": "ipython",
    "version": 3
   },
   "file_extension": ".py",
   "mimetype": "text/x-python",
   "name": "python",
   "nbconvert_exporter": "python",
   "pygments_lexer": "ipython3",
   "version": "3.6.8"
  }
 },
 "nbformat": 4,
 "nbformat_minor": 2
}
